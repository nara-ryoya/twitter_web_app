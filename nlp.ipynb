{
 "cells": [
  {
   "cell_type": "code",
   "execution_count": 1,
   "metadata": {},
   "outputs": [],
   "source": [
    "# 改変禁止（実行のみ）\n",
    "#ライブラリのインポート\n",
    "import numpy as np\n",
    "import pandas as pd\n",
    "import re\n",
    "import oseti\n",
    "import glob\n",
    "\n",
    "# 不要な警告を非表示にする\n",
    "import warnings\n",
    "warnings.filterwarnings('ignore')"
   ]
  },
  {
   "cell_type": "code",
   "execution_count": 2,
   "metadata": {},
   "outputs": [],
   "source": [
    "df = pd.read_csv(\"total1.csv\")"
   ]
  },
  {
   "cell_type": "code",
   "execution_count": 3,
   "metadata": {},
   "outputs": [
    {
     "data": {
      "text/html": [
       "<div>\n",
       "<style scoped>\n",
       "    .dataframe tbody tr th:only-of-type {\n",
       "        vertical-align: middle;\n",
       "    }\n",
       "\n",
       "    .dataframe tbody tr th {\n",
       "        vertical-align: top;\n",
       "    }\n",
       "\n",
       "    .dataframe thead th {\n",
       "        text-align: right;\n",
       "    }\n",
       "</style>\n",
       "<table border=\"1\" class=\"dataframe\">\n",
       "  <thead>\n",
       "    <tr style=\"text-align: right;\">\n",
       "      <th></th>\n",
       "      <th>Unnamed: 0</th>\n",
       "      <th>replies</th>\n",
       "      <th>tweet</th>\n",
       "      <th>polarity</th>\n",
       "    </tr>\n",
       "  </thead>\n",
       "  <tbody>\n",
       "    <tr>\n",
       "      <td>0</td>\n",
       "      <td>1</td>\n",
       "      <td>[' 野党の皆さんが一丸となって、カジノを撤回させてください。\\n期待しています。']</td>\n",
       "      <td>#枝野幸男 代表が #カジノIR 誘致計画の山下埠頭を視察、横浜港ハーバーリゾート協会と面談...</td>\n",
       "      <td>1.000000</td>\n",
       "    </tr>\n",
       "    <tr>\n",
       "      <td>1</td>\n",
       "      <td>4</td>\n",
       "      <td>[' これは接触通知じゃないっすよ。OS側のログ同期時刻なので、正常な動作だと思います。\\n...</td>\n",
       "      <td>#COCOA で接触通知が来たのに検査拒否される問題を取り上げたところ、一人暮らしの方から毎...</td>\n",
       "      <td>0.000000</td>\n",
       "    </tr>\n",
       "    <tr>\n",
       "      <td>2</td>\n",
       "      <td>0</td>\n",
       "      <td>[' 寿都町で騒動の【核のゴミ】無く安定出力を得られる「地熱発電」。出力が安定の「地熱発電」...</td>\n",
       "      <td>北海道の牛乳を飲んで元気をたくさんいただいてます。\\n\\n#がんばろう日本 #COWエール ...</td>\n",
       "      <td>0.333333</td>\n",
       "    </tr>\n",
       "    <tr>\n",
       "      <td>3</td>\n",
       "      <td>0</td>\n",
       "      <td>[' 最近のマスコミは重箱の隅をつつくように難癖ばかりつけるんですよね！', ' じゃあ努力...</td>\n",
       "      <td>朝のワイドショー。コメンテーターさん達が一斉に菅義偉総裁候補の発言を批判しています。\\n「自...</td>\n",
       "      <td>-0.228300</td>\n",
       "    </tr>\n",
       "    <tr>\n",
       "      <td>4</td>\n",
       "      <td>1</td>\n",
       "      <td>[' 白くまは夏に特に美味いんですよねー', ' 吹いた‼️\\U0001f923\\U0001...</td>\n",
       "      <td>これ、白くまですよね？思わずつられて食べたくなってしまう笑顔、素敵です😊 https://t...</td>\n",
       "      <td>0.232889</td>\n",
       "    </tr>\n",
       "    <tr>\n",
       "      <td>...</td>\n",
       "      <td>...</td>\n",
       "      <td>...</td>\n",
       "      <td>...</td>\n",
       "      <td>...</td>\n",
       "    </tr>\n",
       "    <tr>\n",
       "      <td>211</td>\n",
       "      <td>4</td>\n",
       "      <td>[' 何が目的でメディアの要求で氏名を公表するのか全く解りません。公表が行方不明者の捜索に役...</td>\n",
       "      <td>災害時の死者、行方不明者の氏名公表について、インタビューを受けました。\\nhttps://t...</td>\n",
       "      <td>-0.075238</td>\n",
       "    </tr>\n",
       "    <tr>\n",
       "      <td>212</td>\n",
       "      <td>0</td>\n",
       "      <td>[' イジメや犯罪が少ないのは\\n北欧のすべてで言えることだし\\nコスタリカでは軍隊すらない...</td>\n",
       "      <td>デンマークの学校では日本の学校でよく見られるような「いじめ」はほとんどないと言われている。</td>\n",
       "      <td>0.088889</td>\n",
       "    </tr>\n",
       "    <tr>\n",
       "      <td>213</td>\n",
       "      <td>1</td>\n",
       "      <td>[' そんな教育受けたかった！', ' @Bube_Peace 教育が生徒それぞれのなんちゃ...</td>\n",
       "      <td>デンマークの教育では「対話を通して学ぶ」ことが重視されている。デンマークでは法律で「1クラス...</td>\n",
       "      <td>0.237037</td>\n",
       "    </tr>\n",
       "    <tr>\n",
       "      <td>214</td>\n",
       "      <td>3</td>\n",
       "      <td>[' @quai44 なぜ日本では、与えられた課題をこなす事を重視するのでしょうか？どうすれ...</td>\n",
       "      <td>デンマークの教育は、他人の目を気にするのではなく、自分の頭で考え自分で決める「自己決定」と、...</td>\n",
       "      <td>0.358333</td>\n",
       "    </tr>\n",
       "    <tr>\n",
       "      <td>215</td>\n",
       "      <td>4</td>\n",
       "      <td>[' 毒親とかどうするんだ？', ' そもそも宇都宮さんは今幸せですか？', ' 幸福度調査...</td>\n",
       "      <td>ユニセフの子どもの幸福度調査で総合2位になっているデンマークは、世界の中でも貧困と格差が少な...</td>\n",
       "      <td>0.258333</td>\n",
       "    </tr>\n",
       "  </tbody>\n",
       "</table>\n",
       "<p>216 rows × 4 columns</p>\n",
       "</div>"
      ],
      "text/plain": [
       "     Unnamed: 0                                            replies  \\\n",
       "0             1        [' 野党の皆さんが一丸となって、カジノを撤回させてください。\\n期待しています。']   \n",
       "1             4  [' これは接触通知じゃないっすよ。OS側のログ同期時刻なので、正常な動作だと思います。\\n...   \n",
       "2             0  [' 寿都町で騒動の【核のゴミ】無く安定出力を得られる「地熱発電」。出力が安定の「地熱発電」...   \n",
       "3             0  [' 最近のマスコミは重箱の隅をつつくように難癖ばかりつけるんですよね！', ' じゃあ努力...   \n",
       "4             1  [' 白くまは夏に特に美味いんですよねー', ' 吹いた‼️\\U0001f923\\U0001...   \n",
       "..          ...                                                ...   \n",
       "211           4  [' 何が目的でメディアの要求で氏名を公表するのか全く解りません。公表が行方不明者の捜索に役...   \n",
       "212           0  [' イジメや犯罪が少ないのは\\n北欧のすべてで言えることだし\\nコスタリカでは軍隊すらない...   \n",
       "213           1  [' そんな教育受けたかった！', ' @Bube_Peace 教育が生徒それぞれのなんちゃ...   \n",
       "214           3  [' @quai44 なぜ日本では、与えられた課題をこなす事を重視するのでしょうか？どうすれ...   \n",
       "215           4  [' 毒親とかどうするんだ？', ' そもそも宇都宮さんは今幸せですか？', ' 幸福度調査...   \n",
       "\n",
       "                                                 tweet  polarity  \n",
       "0    #枝野幸男 代表が #カジノIR 誘致計画の山下埠頭を視察、横浜港ハーバーリゾート協会と面談...  1.000000  \n",
       "1    #COCOA で接触通知が来たのに検査拒否される問題を取り上げたところ、一人暮らしの方から毎...  0.000000  \n",
       "2    北海道の牛乳を飲んで元気をたくさんいただいてます。\\n\\n#がんばろう日本 #COWエール ...  0.333333  \n",
       "3    朝のワイドショー。コメンテーターさん達が一斉に菅義偉総裁候補の発言を批判しています。\\n「自... -0.228300  \n",
       "4    これ、白くまですよね？思わずつられて食べたくなってしまう笑顔、素敵です😊 https://t...  0.232889  \n",
       "..                                                 ...       ...  \n",
       "211  災害時の死者、行方不明者の氏名公表について、インタビューを受けました。\\nhttps://t... -0.075238  \n",
       "212      デンマークの学校では日本の学校でよく見られるような「いじめ」はほとんどないと言われている。  0.088889  \n",
       "213  デンマークの教育では「対話を通して学ぶ」ことが重視されている。デンマークでは法律で「1クラス...  0.237037  \n",
       "214  デンマークの教育は、他人の目を気にするのではなく、自分の頭で考え自分で決める「自己決定」と、...  0.358333  \n",
       "215  ユニセフの子どもの幸福度調査で総合2位になっているデンマークは、世界の中でも貧困と格差が少な...  0.258333  \n",
       "\n",
       "[216 rows x 4 columns]"
      ]
     },
     "execution_count": 3,
     "metadata": {},
     "output_type": "execute_result"
    }
   ],
   "source": [
    "df"
   ]
  },
  {
   "cell_type": "code",
   "execution_count": 6,
   "metadata": {},
   "outputs": [],
   "source": [
    "df =df.drop(\"Unnamed: 0\", axis=1)"
   ]
  },
  {
   "cell_type": "code",
   "execution_count": 7,
   "metadata": {},
   "outputs": [],
   "source": [
    "df = df.drop(\"replies\", axis=1)"
   ]
  },
  {
   "cell_type": "code",
   "execution_count": 8,
   "metadata": {},
   "outputs": [
    {
     "data": {
      "text/html": [
       "<div>\n",
       "<style scoped>\n",
       "    .dataframe tbody tr th:only-of-type {\n",
       "        vertical-align: middle;\n",
       "    }\n",
       "\n",
       "    .dataframe tbody tr th {\n",
       "        vertical-align: top;\n",
       "    }\n",
       "\n",
       "    .dataframe thead th {\n",
       "        text-align: right;\n",
       "    }\n",
       "</style>\n",
       "<table border=\"1\" class=\"dataframe\">\n",
       "  <thead>\n",
       "    <tr style=\"text-align: right;\">\n",
       "      <th></th>\n",
       "      <th>tweet</th>\n",
       "      <th>polarity</th>\n",
       "    </tr>\n",
       "  </thead>\n",
       "  <tbody>\n",
       "    <tr>\n",
       "      <td>0</td>\n",
       "      <td>#枝野幸男 代表が #カジノIR 誘致計画の山下埠頭を視察、横浜港ハーバーリゾート協会と面談...</td>\n",
       "      <td>1.000000</td>\n",
       "    </tr>\n",
       "    <tr>\n",
       "      <td>1</td>\n",
       "      <td>#COCOA で接触通知が来たのに検査拒否される問題を取り上げたところ、一人暮らしの方から毎...</td>\n",
       "      <td>0.000000</td>\n",
       "    </tr>\n",
       "    <tr>\n",
       "      <td>2</td>\n",
       "      <td>北海道の牛乳を飲んで元気をたくさんいただいてます。\\n\\n#がんばろう日本 #COWエール ...</td>\n",
       "      <td>0.333333</td>\n",
       "    </tr>\n",
       "    <tr>\n",
       "      <td>3</td>\n",
       "      <td>朝のワイドショー。コメンテーターさん達が一斉に菅義偉総裁候補の発言を批判しています。\\n「自...</td>\n",
       "      <td>-0.228300</td>\n",
       "    </tr>\n",
       "    <tr>\n",
       "      <td>4</td>\n",
       "      <td>これ、白くまですよね？思わずつられて食べたくなってしまう笑顔、素敵です😊 https://t...</td>\n",
       "      <td>0.232889</td>\n",
       "    </tr>\n",
       "    <tr>\n",
       "      <td>...</td>\n",
       "      <td>...</td>\n",
       "      <td>...</td>\n",
       "    </tr>\n",
       "    <tr>\n",
       "      <td>211</td>\n",
       "      <td>災害時の死者、行方不明者の氏名公表について、インタビューを受けました。\\nhttps://t...</td>\n",
       "      <td>-0.075238</td>\n",
       "    </tr>\n",
       "    <tr>\n",
       "      <td>212</td>\n",
       "      <td>デンマークの学校では日本の学校でよく見られるような「いじめ」はほとんどないと言われている。</td>\n",
       "      <td>0.088889</td>\n",
       "    </tr>\n",
       "    <tr>\n",
       "      <td>213</td>\n",
       "      <td>デンマークの教育では「対話を通して学ぶ」ことが重視されている。デンマークでは法律で「1クラス...</td>\n",
       "      <td>0.237037</td>\n",
       "    </tr>\n",
       "    <tr>\n",
       "      <td>214</td>\n",
       "      <td>デンマークの教育は、他人の目を気にするのではなく、自分の頭で考え自分で決める「自己決定」と、...</td>\n",
       "      <td>0.358333</td>\n",
       "    </tr>\n",
       "    <tr>\n",
       "      <td>215</td>\n",
       "      <td>ユニセフの子どもの幸福度調査で総合2位になっているデンマークは、世界の中でも貧困と格差が少な...</td>\n",
       "      <td>0.258333</td>\n",
       "    </tr>\n",
       "  </tbody>\n",
       "</table>\n",
       "<p>216 rows × 2 columns</p>\n",
       "</div>"
      ],
      "text/plain": [
       "                                                 tweet  polarity\n",
       "0    #枝野幸男 代表が #カジノIR 誘致計画の山下埠頭を視察、横浜港ハーバーリゾート協会と面談...  1.000000\n",
       "1    #COCOA で接触通知が来たのに検査拒否される問題を取り上げたところ、一人暮らしの方から毎...  0.000000\n",
       "2    北海道の牛乳を飲んで元気をたくさんいただいてます。\\n\\n#がんばろう日本 #COWエール ...  0.333333\n",
       "3    朝のワイドショー。コメンテーターさん達が一斉に菅義偉総裁候補の発言を批判しています。\\n「自... -0.228300\n",
       "4    これ、白くまですよね？思わずつられて食べたくなってしまう笑顔、素敵です😊 https://t...  0.232889\n",
       "..                                                 ...       ...\n",
       "211  災害時の死者、行方不明者の氏名公表について、インタビューを受けました。\\nhttps://t... -0.075238\n",
       "212      デンマークの学校では日本の学校でよく見られるような「いじめ」はほとんどないと言われている。  0.088889\n",
       "213  デンマークの教育では「対話を通して学ぶ」ことが重視されている。デンマークでは法律で「1クラス...  0.237037\n",
       "214  デンマークの教育は、他人の目を気にするのではなく、自分の頭で考え自分で決める「自己決定」と、...  0.358333\n",
       "215  ユニセフの子どもの幸福度調査で総合2位になっているデンマークは、世界の中でも貧困と格差が少な...  0.258333\n",
       "\n",
       "[216 rows x 2 columns]"
      ]
     },
     "execution_count": 8,
     "metadata": {},
     "output_type": "execute_result"
    }
   ],
   "source": [
    "df"
   ]
  },
  {
   "cell_type": "code",
   "execution_count": 9,
   "metadata": {},
   "outputs": [
    {
     "data": {
      "text/plain": [
       "(216, 2)"
      ]
     },
     "execution_count": 9,
     "metadata": {},
     "output_type": "execute_result"
    }
   ],
   "source": [
    "df.shape"
   ]
  },
  {
   "cell_type": "code",
   "execution_count": 10,
   "metadata": {},
   "outputs": [
    {
     "data": {
      "text/plain": [
       "'#枝野幸男 代表が #カジノIR 誘致計画の山下埠頭を視察、横浜港ハーバーリゾート協会と面談。「ベイブリッジや氷川丸が目の前、海を見渡すこの地に、港湾協会はじめ地元が歓迎しないカジノ誘致の問題は、合流新党において最重要課題の一つ」… https://t.co/A93NnWc3Fv'"
      ]
     },
     "execution_count": 10,
     "metadata": {},
     "output_type": "execute_result"
    }
   ],
   "source": [
    "df[\"tweet\"][0]"
   ]
  },
  {
   "cell_type": "code",
   "execution_count": 13,
   "metadata": {},
   "outputs": [],
   "source": [
    "def remove_symbol(text):\n",
    "    removed = re.sub(r\"[\\W]+|[a-z]+|[0-9]+|[A-Z]+|ｗ\", \" \", text)\n",
    "    \n",
    "    return removed"
   ]
  },
  {
   "cell_type": "code",
   "execution_count": 16,
   "metadata": {},
   "outputs": [
    {
     "data": {
      "text/plain": [
       "' 枝野幸男 代表が カジノ  誘致計画の山下埠頭を視察 横浜港ハーバーリゾート協会と面談 ベイブリッジや氷川丸が目の前 海を見渡すこの地に 港湾協会はじめ地元が歓迎しないカジノ誘致の問題は 合流新党において最重要課題の一つ                '"
      ]
     },
     "execution_count": 16,
     "metadata": {},
     "output_type": "execute_result"
    }
   ],
   "source": [
    "removed = remove_symbol(df[\"tweet\"][0])\n",
    "removed"
   ]
  },
  {
   "cell_type": "code",
   "execution_count": 21,
   "metadata": {},
   "outputs": [],
   "source": [
    "def wakachi(text):\n",
    "    '''\n",
    "    input : text\n",
    "    output: docs (トークン化され、リストに単語ごとに格納された状態)\n",
    "    \n",
    "    '''\n",
    "    # 以下、つづきを記述せよ\n",
    "    from janome.tokenizer import Tokenizer\n",
    "    t = Tokenizer()\n",
    "    tokens = list(t.tokenize(text, wakati=True))\n",
    "    return tokens"
   ]
  },
  {
   "cell_type": "code",
   "execution_count": 22,
   "metadata": {},
   "outputs": [
    {
     "name": "stdout",
     "output_type": "stream",
     "text": [
      "['枝野', '幸男', ' ', '代表', 'が', ' ', 'カジノ', '  ', '誘致', '計画', 'の', '山下', '埠頭', 'を', '視察', ' ', '横浜', '港', 'ハーバーリゾート', '協会', 'と', '面談', ' ', 'ベイ', 'ブリッジ', 'や', '氷川丸', 'が', '目', 'の', '前', ' ', '海', 'を', '見渡す', 'この', '地', 'に', ' ', '港湾', '協会', 'はじめ', '地元', 'が', '歓迎', 'し', 'ない', 'カジノ', '誘致', 'の', '問題', 'は', ' ', '合流', '新党', 'において', '最', '重要', '課題', 'の', '一つ']\n"
     ]
    }
   ],
   "source": [
    "print(wakachi(removed))"
   ]
  },
  {
   "cell_type": "code",
   "execution_count": null,
   "metadata": {},
   "outputs": [],
   "source": []
  }
 ],
 "metadata": {
  "kernelspec": {
   "display_name": "Python 3",
   "language": "python",
   "name": "python3"
  },
  "language_info": {
   "codemirror_mode": {
    "name": "ipython",
    "version": 3
   },
   "file_extension": ".py",
   "mimetype": "text/x-python",
   "name": "python",
   "nbconvert_exporter": "python",
   "pygments_lexer": "ipython3",
   "version": "3.7.4"
  }
 },
 "nbformat": 4,
 "nbformat_minor": 2
}
